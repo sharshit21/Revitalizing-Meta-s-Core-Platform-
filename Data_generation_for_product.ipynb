{
 "cells": [
  {
   "cell_type": "code",
   "execution_count": 1,
   "id": "d517e251-2e82-4f72-aa06-065dce6e59c7",
   "metadata": {},
   "outputs": [
    {
     "name": "stdout",
     "output_type": "stream",
     "text": [
      "Users data generated and verified successfully.\n"
     ]
    }
   ],
   "source": [
    "import pandas as pd\n",
    "import numpy as np\n",
    "from datetime import datetime, timedelta\n",
    "\n",
    "np.random.seed(42)  # for reproducibility\n",
    "\n",
    "start_date = datetime(2023, 8, 18)\n",
    "dates = [start_date + timedelta(days=x) for x in range(365)]\n",
    "\n",
    "total_users = 5000000\n",
    "new_users = 10000\n",
    "dau_18_25 = 2000000\n",
    "avg_trust_score = 6.5\n",
    "\n",
    "data = []\n",
    "for date in dates:\n",
    "    total_users += new_users\n",
    "    dau_18_25 += np.random.randint(3000, 7000)\n",
    "    avg_trust_score = min(10, avg_trust_score + np.random.uniform(0.001, 0.005))\n",
    "    new_users = max(5000, new_users + np.random.randint(-500, 1000))\n",
    "    \n",
    "    data.append([date, int(total_users), int(new_users), int(dau_18_25), round(avg_trust_score, 2)])\n",
    "\n",
    "df = pd.DataFrame(data, columns=['Date', 'TotalUsers', 'NewUsers', 'DAU_18_25', 'AvgTrustScore'])\n",
    "\n",
    "# Verification\n",
    "assert df['TotalUsers'].is_monotonic_increasing, \"Total Users should always increase\"\n",
    "assert (df['DAU_18_25'] <= df['TotalUsers']).all(), \"DAU should not exceed Total Users\"\n",
    "assert (df['AvgTrustScore'] <= 10).all(), \"Trust Score should not exceed 10\"\n",
    "\n",
    "df.to_csv('users_data.csv', index=False)\n",
    "print(\"Users data generated and verified successfully.\")"
   ]
  },
  {
   "cell_type": "code",
   "execution_count": 2,
   "id": "8f6e27a8-5f55-48cf-91ad-a4266b12a945",
   "metadata": {},
   "outputs": [
    {
     "name": "stdout",
     "output_type": "stream",
     "text": [
      "Engagement data generated and verified successfully.\n"
     ]
    }
   ],
   "source": [
    "import pandas as pd\n",
    "import numpy as np\n",
    "from datetime import datetime, timedelta\n",
    "\n",
    "np.random.seed(42)\n",
    "\n",
    "start_date = datetime(2023, 8, 18)\n",
    "dates = [start_date + timedelta(days=x) for x in range(365)]\n",
    "\n",
    "total_interactions = 950000000\n",
    "unique_users_engaged = 1900000\n",
    "\n",
    "data = []\n",
    "for date in dates:\n",
    "    total_interactions += np.random.randint(3000000, 7000000)\n",
    "    unique_users_engaged += np.random.randint(5000, 15000)\n",
    "    avg_interactions = total_interactions / unique_users_engaged\n",
    "    \n",
    "    data.append([date, int(total_interactions), int(unique_users_engaged), round(avg_interactions, 2)])\n",
    "\n",
    "df = pd.DataFrame(data, columns=['Date', 'TotalInteractions', 'UniqueUsersEngaged', 'AvgInteractionsPerUser'])\n",
    "\n",
    "# Verification\n",
    "assert df['TotalInteractions'].is_monotonic_increasing, \"Total Interactions should always increase\"\n",
    "assert df['UniqueUsersEngaged'].is_monotonic_increasing, \"Unique Users Engaged should always increase\"\n",
    "assert (df['AvgInteractionsPerUser'] > 0).all(), \"Average Interactions should be positive\"\n",
    "\n",
    "df.to_csv('engagement_data.csv', index=False)\n",
    "print(\"Engagement data generated and verified successfully.\")"
   ]
  },
  {
   "cell_type": "code",
   "execution_count": 3,
   "id": "faadc86a-73bf-4fff-bea8-9c1b35e80592",
   "metadata": {},
   "outputs": [
    {
     "name": "stdout",
     "output_type": "stream",
     "text": [
      "Creators data generated and verified successfully.\n"
     ]
    }
   ],
   "source": [
    "import pandas as pd\n",
    "import numpy as np\n",
    "from datetime import datetime, timedelta\n",
    "\n",
    "np.random.seed(42)\n",
    "\n",
    "start_date = datetime(2023, 8, 1)\n",
    "dates = [start_date + timedelta(days=30*x) for x in range(13)]  # 13 months for year-over-year comparison\n",
    "\n",
    "active_creators = 10000000\n",
    "total_content = 500000000\n",
    "new_creators = 100000\n",
    "\n",
    "data = []\n",
    "for date in dates:\n",
    "    active_creators += new_creators\n",
    "    total_content += np.random.randint(8000000, 12000000)\n",
    "    new_creators = int(new_creators * (1 + np.random.uniform(0.03, 0.07)))\n",
    "    \n",
    "    data.append([date.strftime('%Y-%m'), int(active_creators), int(total_content), int(new_creators)])\n",
    "\n",
    "df = pd.DataFrame(data, columns=['Month', 'ActiveCreators', 'TotalContent', 'NewCreators'])\n",
    "\n",
    "# Verification\n",
    "assert df['ActiveCreators'].is_monotonic_increasing, \"Active Creators should always increase\"\n",
    "assert df['TotalContent'].is_monotonic_increasing, \"Total Content should always increase\"\n",
    "assert (df['NewCreators'] > 0).all(), \"New Creators should be positive\"\n",
    "\n",
    "df.to_csv('creators_data.csv', index=False)\n",
    "print(\"Creators data generated and verified successfully.\")"
   ]
  },
  {
   "cell_type": "code",
   "execution_count": 4,
   "id": "bdc49773-9a3c-4e4f-a880-c93ff652f958",
   "metadata": {},
   "outputs": [
    {
     "name": "stdout",
     "output_type": "stream",
     "text": [
      "Revenue data generated and verified successfully.\n"
     ]
    }
   ],
   "source": [
    "import pandas as pd\n",
    "import numpy as np\n",
    "from datetime import datetime, timedelta\n",
    "\n",
    "np.random.seed(42)\n",
    "\n",
    "start_date = datetime(2023, 8, 18)\n",
    "dates = [start_date + timedelta(days=x) for x in range(365)]\n",
    "\n",
    "ad_revenue = 311000000\n",
    "other_revenue = 5000000\n",
    "\n",
    "data = []\n",
    "for date in dates:\n",
    "    ad_revenue += np.random.randint(1000000, 2000000)\n",
    "    other_revenue += np.random.randint(50000, 150000)\n",
    "    total_revenue = ad_revenue + other_revenue\n",
    "    \n",
    "    data.append([date, int(ad_revenue), int(other_revenue), int(total_revenue)])\n",
    "\n",
    "df = pd.DataFrame(data, columns=['Date', 'AdRevenue', 'OtherRevenue', 'TotalRevenue'])\n",
    "\n",
    "# Verification\n",
    "assert df['AdRevenue'].is_monotonic_increasing, \"Ad Revenue should always increase\"\n",
    "assert df['OtherRevenue'].is_monotonic_increasing, \"Other Revenue should always increase\"\n",
    "assert (df['TotalRevenue'] == df['AdRevenue'] + df['OtherRevenue']).all(), \"Total Revenue should equal Ad Revenue plus Other Revenue\"\n",
    "\n",
    "df.to_csv('revenue_data.csv', index=False)\n",
    "print(\"Revenue data generated and verified successfully.\")"
   ]
  },
  {
   "cell_type": "code",
   "execution_count": 5,
   "id": "8b53891a-153d-44ee-8e57-9c57e783522d",
   "metadata": {},
   "outputs": [
    {
     "name": "stdout",
     "output_type": "stream",
     "text": [
      "Age Distribution data generated and verified successfully.\n"
     ]
    }
   ],
   "source": [
    "import pandas as pd\n",
    "import numpy as np\n",
    "from datetime import datetime, timedelta\n",
    "\n",
    "np.random.seed(42)\n",
    "\n",
    "start_date = datetime(2023, 8, 1)\n",
    "dates = [start_date + timedelta(days=30*x) for x in range(13)]  # 13 months for year-over-year comparison\n",
    "\n",
    "age_18_20 = 1500000\n",
    "age_21_23 = 1600000\n",
    "age_24_25 = 900000\n",
    "age_other = 1000000\n",
    "\n",
    "data = []\n",
    "for date in dates:\n",
    "    age_18_20 += np.random.randint(15000, 25000)\n",
    "    age_21_23 += np.random.randint(15000, 25000)\n",
    "    age_24_25 += np.random.randint(8000, 12000)\n",
    "    age_other += np.random.randint(8000, 12000)\n",
    "    \n",
    "    data.append([date.strftime('%Y-%m'), int(age_18_20), int(age_21_23), int(age_24_25), int(age_other)])\n",
    "\n",
    "df = pd.DataFrame(data, columns=['Month', 'Age_18_20', 'Age_21_23', 'Age_24_25', 'Age_Other'])\n",
    "\n",
    "# Verification\n",
    "assert df['Age_18_20'].is_monotonic_increasing, \"Age 18-20 group should always increase\"\n",
    "assert df['Age_21_23'].is_monotonic_increasing, \"Age 21-23 group should always increase\"\n",
    "assert df['Age_24_25'].is_monotonic_increasing, \"Age 24-25 group should always increase\"\n",
    "assert df['Age_Other'].is_monotonic_increasing, \"Other age group should always increase\"\n",
    "\n",
    "df.to_csv('age_distribution_data.csv', index=False)\n",
    "print(\"Age Distribution data generated and verified successfully.\")"
   ]
  },
  {
   "cell_type": "code",
   "execution_count": null,
   "id": "7696e7cd-7152-42e8-8805-bbcc41c72bb2",
   "metadata": {},
   "outputs": [],
   "source": []
  }
 ],
 "metadata": {
  "kernelspec": {
   "display_name": "Python 3 (ipykernel)",
   "language": "python",
   "name": "python3"
  },
  "language_info": {
   "codemirror_mode": {
    "name": "ipython",
    "version": 3
   },
   "file_extension": ".py",
   "mimetype": "text/x-python",
   "name": "python",
   "nbconvert_exporter": "python",
   "pygments_lexer": "ipython3",
   "version": "3.9.18"
  }
 },
 "nbformat": 4,
 "nbformat_minor": 5
}
